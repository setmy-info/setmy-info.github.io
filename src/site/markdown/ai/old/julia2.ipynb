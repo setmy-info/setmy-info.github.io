{
 "cells": [
  {
   "cell_type": "code",
   "execution_count": 1,
   "id": "ba61342c-9df2-4ff2-8487-930506e8d37c",
   "metadata": {},
   "outputs": [
    {
     "data": {
      "text/plain": [
       "f (generic function with 1 method)"
      ]
     },
     "execution_count": 1,
     "metadata": {},
     "output_type": "execute_result"
    }
   ],
   "source": [
    "f(x) = x * 2"
   ]
  },
  {
   "cell_type": "code",
   "execution_count": 2,
   "id": "37efd6a8-b444-45b9-bb22-a7a1b4069840",
   "metadata": {},
   "outputs": [
    {
     "data": {
      "text/plain": [
       "g (generic function with 1 method)"
      ]
     },
     "execution_count": 2,
     "metadata": {},
     "output_type": "execute_result"
    }
   ],
   "source": [
    "g(x) = \"Number is $(x)\""
   ]
  },
  {
   "cell_type": "code",
   "execution_count": 3,
   "id": "3bfcd3f1-2ea7-46a8-9e68-55eb8ea6147a",
   "metadata": {},
   "outputs": [
    {
     "data": {
      "text/plain": [
       "Main.g ∘ Main.f"
      ]
     },
     "execution_count": 3,
     "metadata": {},
     "output_type": "execute_result"
    }
   ],
   "source": [
    "h = g ∘ f"
   ]
  },
  {
   "cell_type": "code",
   "execution_count": 4,
   "id": "49c1c208-6aa3-49e1-bec3-75969d1c97d8",
   "metadata": {},
   "outputs": [
    {
     "data": {
      "text/plain": [
       "\"Number is 10\""
      ]
     },
     "execution_count": 4,
     "metadata": {},
     "output_type": "execute_result"
    }
   ],
   "source": [
    "h(5)"
   ]
  },
  {
   "cell_type": "code",
   "execution_count": null,
   "id": "3e9cc684-1646-471f-83cb-b95b4cec579f",
   "metadata": {},
   "outputs": [],
   "source": []
  }
 ],
 "metadata": {
  "kernelspec": {
   "display_name": "Julia 1.11.7",
   "language": "julia",
   "name": "julia-1.11"
  },
  "language_info": {
   "file_extension": ".jl",
   "mimetype": "application/julia",
   "name": "julia",
   "version": "1.11.7"
  }
 },
 "nbformat": 4,
 "nbformat_minor": 5
}
