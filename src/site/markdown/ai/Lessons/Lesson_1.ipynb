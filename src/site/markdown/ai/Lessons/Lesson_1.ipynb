{
 "cells": [
  {
   "cell_type": "markdown",
   "id": "58419e40-e64a-4125-9f01-ede4c8be86ab",
   "metadata": {},
   "source": [
    "# Lesson 1\n",
    "\n",
    "## Setup check\n",
    "\n",
    "Goal is to check versions setup and see how Jupyter works."
   ]
  },
  {
   "cell_type": "code",
   "execution_count": 20,
   "id": "9f4216af-6716-4b5f-9632-8a49af6d1350",
   "metadata": {
    "scrolled": true
   },
   "outputs": [],
   "source": [
    "import os\n",
    "import sys\n",
    "import platform\n",
    "import numpy as np\n",
    "import pandas as pd\n",
    "import matplotlib as mpl\n",
    "import matplotlib.pyplot as plt\n",
    "import seaborn as sns\n",
    "import tensorflow as tf\n",
    "from tensorflow.keras import layers\n",
    "import datetime\n",
    "import timeit\n",
    "import itertools\n",
    "import pyarrow as pa\n",
    "import torch\n",
    "import sklearn"
   ]
  },
  {
   "cell_type": "code",
   "execution_count": 21,
   "id": "f28e3b6e-7a6a-4a34-b6d9-8f45164dce7f",
   "metadata": {},
   "outputs": [
    {
     "name": "stdout",
     "output_type": "stream",
     "text": [
      "Python version: 3.13.7 (main, Oct  9 2025, 14:48:13) [GCC 14.2.1 20250110 (Red Hat 14.2.1-7)]\n",
      "Python version info: sys.version_info(major=3, minor=13, micro=7, releaselevel='final', serial=0)\n",
      "Platform: Linux-6.12.0-55.37.1.el10_0.x86_64-x86_64-with-glibc2.39\n",
      "TensorFlow: 2.20.0\n",
      "NumPy: 2.3.3\n",
      "pandas: 2.3.3\n",
      "pyarrow: 21.0.0\n",
      "PyTorch: 2.8.0+cpu\n",
      "scikit-learn: 1.7.2\n"
     ]
    }
   ],
   "source": [
    "print(\"Python version:\", sys.version)\n",
    "print(\"Python version info:\", sys.version_info)\n",
    "print(\"Platform:\", platform.platform())\n",
    "print(\"TensorFlow:\", tf.__version__)\n",
    "print(\"NumPy:\", np.__version__)\n",
    "print(\"pandas:\", pd.__version__)\n",
    "print(\"pyarrow:\", pa.__version__)\n",
    "print(\"PyTorch:\", torch.__version__)\n",
    "print(\"scikit-learn:\", sklearn.__version__)"
   ]
  }
 ],
 "metadata": {
  "kernelspec": {
   "display_name": "Python 3 (ipykernel)",
   "language": "python",
   "name": "python3"
  },
  "language_info": {
   "codemirror_mode": {
    "name": "ipython",
    "version": 3
   },
   "file_extension": ".py",
   "mimetype": "text/x-python",
   "name": "python",
   "nbconvert_exporter": "python",
   "pygments_lexer": "ipython3",
   "version": "3.13.7"
  }
 },
 "nbformat": 4,
 "nbformat_minor": 5
}
