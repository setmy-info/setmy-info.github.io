{
 "cells": [
  {
   "cell_type": "markdown",
   "id": "66d8015c-cb40-4a09-98e1-0eda064a7b60",
   "metadata": {},
   "source": [
    "# Lesson 3\n",
    "\n",
    "## Two node ANN\n",
    "\n",
    "Make ANN more complex and investigate results.\n",
    "\n",
    "Goal is to set to get Quadratic Model: **y = x^2**"
   ]
  },
  {
   "cell_type": "code",
   "execution_count": 2,
   "id": "a8611c73-8939-4e77-8a88-6c169637c11a",
   "metadata": {},
   "outputs": [
    {
     "name": "stderr",
     "output_type": "stream",
     "text": [
      "2025-10-11 12:42:51.237576: I external/local_xla/xla/tsl/cuda/cudart_stub.cc:31] Could not find cuda drivers on your machine, GPU will not be used.\n",
      "2025-10-11 12:42:51.275780: I tensorflow/core/platform/cpu_feature_guard.cc:210] This TensorFlow binary is optimized to use available CPU instructions in performance-critical operations.\n",
      "To enable the following instructions: AVX2 FMA, in other operations, rebuild TensorFlow with the appropriate compiler flags.\n",
      "2025-10-11 12:42:52.424156: I external/local_xla/xla/tsl/cuda/cudart_stub.cc:31] Could not find cuda drivers on your machine, GPU will not be used.\n"
     ]
    }
   ],
   "source": [
    "import sys\n",
    "import platform\n",
    "import tensorflow as tf\n",
    "import numpy as np\n",
    "from tensorflow.keras import Sequential\n",
    "from tensorflow.keras.layers import Dense, Input\n",
    "from sklearn.model_selection import train_test_split\n",
    "import matplotlib.pyplot as plt"
   ]
  },
  {
   "cell_type": "code",
   "execution_count": 3,
   "id": "caf31f88-47d5-4185-b8bc-233063cf5463",
   "metadata": {},
   "outputs": [],
   "source": [
    "x = np.linspace(-3, 3, 100)\n",
    "y = x**2"
   ]
  },
  {
   "cell_type": "code",
   "execution_count": 5,
   "id": "93de541c-063a-4ea4-9138-65ed5e470bbe",
   "metadata": {},
   "outputs": [
    {
     "data": {
      "text/plain": [
       "array([-3.        , -2.93939394, -2.87878788, -2.81818182, -2.75757576,\n",
       "       -2.6969697 , -2.63636364, -2.57575758, -2.51515152, -2.45454545,\n",
       "       -2.39393939, -2.33333333, -2.27272727, -2.21212121, -2.15151515,\n",
       "       -2.09090909, -2.03030303, -1.96969697, -1.90909091, -1.84848485,\n",
       "       -1.78787879, -1.72727273, -1.66666667, -1.60606061, -1.54545455,\n",
       "       -1.48484848, -1.42424242, -1.36363636, -1.3030303 , -1.24242424,\n",
       "       -1.18181818, -1.12121212, -1.06060606, -1.        , -0.93939394,\n",
       "       -0.87878788, -0.81818182, -0.75757576, -0.6969697 , -0.63636364,\n",
       "       -0.57575758, -0.51515152, -0.45454545, -0.39393939, -0.33333333,\n",
       "       -0.27272727, -0.21212121, -0.15151515, -0.09090909, -0.03030303,\n",
       "        0.03030303,  0.09090909,  0.15151515,  0.21212121,  0.27272727,\n",
       "        0.33333333,  0.39393939,  0.45454545,  0.51515152,  0.57575758,\n",
       "        0.63636364,  0.6969697 ,  0.75757576,  0.81818182,  0.87878788,\n",
       "        0.93939394,  1.        ,  1.06060606,  1.12121212,  1.18181818,\n",
       "        1.24242424,  1.3030303 ,  1.36363636,  1.42424242,  1.48484848,\n",
       "        1.54545455,  1.60606061,  1.66666667,  1.72727273,  1.78787879,\n",
       "        1.84848485,  1.90909091,  1.96969697,  2.03030303,  2.09090909,\n",
       "        2.15151515,  2.21212121,  2.27272727,  2.33333333,  2.39393939,\n",
       "        2.45454545,  2.51515152,  2.57575758,  2.63636364,  2.6969697 ,\n",
       "        2.75757576,  2.81818182,  2.87878788,  2.93939394,  3.        ])"
      ]
     },
     "execution_count": 5,
     "metadata": {},
     "output_type": "execute_result"
    }
   ],
   "source": [
    "x"
   ]
  },
  {
   "cell_type": "code",
   "execution_count": 6,
   "id": "20566f51-5196-4b65-830f-3e374f02aa61",
   "metadata": {},
   "outputs": [
    {
     "data": {
      "text/plain": [
       "array([9.00000000e+00, 8.64003673e+00, 8.28741965e+00, 7.94214876e+00,\n",
       "       7.60422406e+00, 7.27364555e+00, 6.95041322e+00, 6.63452709e+00,\n",
       "       6.32598714e+00, 6.02479339e+00, 5.73094582e+00, 5.44444444e+00,\n",
       "       5.16528926e+00, 4.89348026e+00, 4.62901745e+00, 4.37190083e+00,\n",
       "       4.12213039e+00, 3.87970615e+00, 3.64462810e+00, 3.41689624e+00,\n",
       "       3.19651056e+00, 2.98347107e+00, 2.77777778e+00, 2.57943067e+00,\n",
       "       2.38842975e+00, 2.20477502e+00, 2.02846648e+00, 1.85950413e+00,\n",
       "       1.69788797e+00, 1.54361800e+00, 1.39669421e+00, 1.25711662e+00,\n",
       "       1.12488522e+00, 1.00000000e+00, 8.82460973e-01, 7.72268136e-01,\n",
       "       6.69421488e-01, 5.73921028e-01, 4.85766758e-01, 4.04958678e-01,\n",
       "       3.31496786e-01, 2.65381084e-01, 2.06611570e-01, 1.55188246e-01,\n",
       "       1.11111111e-01, 7.43801653e-02, 4.49954086e-02, 2.29568411e-02,\n",
       "       8.26446281e-03, 9.18273646e-04, 9.18273646e-04, 8.26446281e-03,\n",
       "       2.29568411e-02, 4.49954086e-02, 7.43801653e-02, 1.11111111e-01,\n",
       "       1.55188246e-01, 2.06611570e-01, 2.65381084e-01, 3.31496786e-01,\n",
       "       4.04958678e-01, 4.85766758e-01, 5.73921028e-01, 6.69421488e-01,\n",
       "       7.72268136e-01, 8.82460973e-01, 1.00000000e+00, 1.12488522e+00,\n",
       "       1.25711662e+00, 1.39669421e+00, 1.54361800e+00, 1.69788797e+00,\n",
       "       1.85950413e+00, 2.02846648e+00, 2.20477502e+00, 2.38842975e+00,\n",
       "       2.57943067e+00, 2.77777778e+00, 2.98347107e+00, 3.19651056e+00,\n",
       "       3.41689624e+00, 3.64462810e+00, 3.87970615e+00, 4.12213039e+00,\n",
       "       4.37190083e+00, 4.62901745e+00, 4.89348026e+00, 5.16528926e+00,\n",
       "       5.44444444e+00, 5.73094582e+00, 6.02479339e+00, 6.32598714e+00,\n",
       "       6.63452709e+00, 6.95041322e+00, 7.27364555e+00, 7.60422406e+00,\n",
       "       7.94214876e+00, 8.28741965e+00, 8.64003673e+00, 9.00000000e+00])"
      ]
     },
     "execution_count": 6,
     "metadata": {},
     "output_type": "execute_result"
    }
   ],
   "source": [
    "y"
   ]
  },
  {
   "cell_type": "code",
   "execution_count": 9,
   "id": "96806554-59bb-4ee0-8b2a-7e1ca42a3d05",
   "metadata": {},
   "outputs": [],
   "source": [
    "model = Sequential([\n",
    "    Input(shape=(1,)),\n",
    "    Dense(1, activation='relu', name='hidden'),\n",
    "    Dense(1, activation='linear', name='output')\n",
    "])\n",
    "model.compile(optimizer='adam', loss='mse', metrics=['mae'])"
   ]
  },
  {
   "cell_type": "code",
   "execution_count": 10,
   "id": "25ceb827-2184-42c7-a88f-a07d086850e1",
   "metadata": {},
   "outputs": [],
   "source": [
    "history = model.fit(x, y, epochs=1000, verbose=0)"
   ]
  },
  {
   "cell_type": "code",
   "execution_count": null,
   "id": "574ff927-5f28-48ad-96df-1e0443b6fb05",
   "metadata": {},
   "outputs": [],
   "source": []
  }
 ],
 "metadata": {
  "kernelspec": {
   "display_name": "Python 3 (ipykernel)",
   "language": "python",
   "name": "python3"
  },
  "language_info": {
   "codemirror_mode": {
    "name": "ipython",
    "version": 3
   },
   "file_extension": ".py",
   "mimetype": "text/x-python",
   "name": "python",
   "nbconvert_exporter": "python",
   "pygments_lexer": "ipython3",
   "version": "3.13.7"
  }
 },
 "nbformat": 4,
 "nbformat_minor": 5
}
