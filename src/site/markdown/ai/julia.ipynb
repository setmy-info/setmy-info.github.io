{
 "cells": [
  {
   "cell_type": "markdown",
   "id": "64bfe0de-5eff-4512-9803-1dd462aa1209",
   "metadata": {},
   "source": [
    "1. Install Julia\n",
    "\n",
    "2. Execute Julia\n",
    "\n",
    "3. Install Juliaapackages with:\n",
    "\n",
    "```julia\n",
    "using Pkg\n",
    "Pkg.add(\"IJulia\")\n",
    "Pkg.add(\"DataFrames\")\n",
    "Pkg.add(\"CSV\")\n",
    "Pkg.add(\"Plots\")\n",
    "```"
   ]
  },
  {
   "cell_type": "code",
   "execution_count": 2,
   "id": "0382ec7b-91e0-45ad-b48f-6026585c0766",
   "metadata": {
    "tags": []
   },
   "outputs": [
    {
     "name": "stdout",
     "output_type": "stream",
     "text": [
      "Julia inside Jupiter notebooks\n"
     ]
    }
   ],
   "source": [
    "println(\"Julia inside Jupiter notebooks\")"
   ]
  },
  {
   "cell_type": "code",
   "execution_count": 3,
   "id": "e20f9756-b674-4933-8b99-5360609ad4f6",
   "metadata": {},
   "outputs": [
    {
     "name": "stdout",
     "output_type": "stream",
     "text": [
      "1.11.7\n"
     ]
    }
   ],
   "source": [
    "println(VERSION)"
   ]
  }
 ],
 "metadata": {
  "kernelspec": {
   "display_name": "Julia 1.11.7",
   "language": "julia",
   "name": "julia-1.11"
  },
  "language_info": {
   "file_extension": ".jl",
   "mimetype": "application/julia",
   "name": "julia",
   "version": "1.11.7"
  }
 },
 "nbformat": 4,
 "nbformat_minor": 5
}
