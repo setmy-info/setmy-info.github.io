{
 "cells": [
  {
   "cell_type": "code",
   "execution_count": 3,
   "id": "3c92bd38-15c2-4bd9-a01f-77d2226a9a7e",
   "metadata": {},
   "outputs": [],
   "source": [
    "import tensorflow as tf\n",
    "import numpy as np\n",
    "from tensorflow.keras import Sequential\n",
    "from tensorflow.keras.layers import Dense\n",
    "from sklearn.model_selection import train_test_split"
   ]
  },
  {
   "cell_type": "code",
   "execution_count": 4,
   "id": "a23e48cb-f5c2-401c-896c-8cf3d5b4c600",
   "metadata": {},
   "outputs": [],
   "source": [
    "features = np.array([-3.0, -2.0, -1.0, 0.0, 1.0, 2.0, 3.0, 4.0, 5.0, 6.0, \n",
    "                     7.0, 8.0, 9.0, 10.0, 11.0, 12.0], dtype=float)\n",
    "labels = 2 * features - 1  # y = 2x - 1"
   ]
  },
  {
   "cell_type": "code",
   "execution_count": 5,
   "id": "56712d9c-ca02-4839-896e-de1ec4283b48",
   "metadata": {},
   "outputs": [
    {
     "data": {
      "text/plain": [
       "array([-7., -5., -3., -1.,  1.,  3.,  5.,  7.,  9., 11., 13., 15., 17.,\n",
       "       19., 21., 23.])"
      ]
     },
     "execution_count": 5,
     "metadata": {},
     "output_type": "execute_result"
    }
   ],
   "source": [
    "features\n",
    "labels"
   ]
  },
  {
   "cell_type": "code",
   "execution_count": 6,
   "id": "a90dffe7-0237-4e12-8be0-71d0423c50c9",
   "metadata": {},
   "outputs": [
    {
     "name": "stdout",
     "output_type": "stream",
     "text": [
      "Kogu andmestik (features and labels):\n",
      "x =  -3 → y =  -7\n",
      "x =  -2 → y =  -5\n",
      "x =  -1 → y =  -3\n",
      "x =   0 → y =  -1\n",
      "x =   1 → y =   1\n",
      "x =   2 → y =   3\n",
      "x =   3 → y =   5\n",
      "x =   4 → y =   7\n",
      "x =   5 → y =   9\n",
      "x =   6 → y =  11\n",
      "x =   7 → y =  13\n",
      "x =   8 → y =  15\n",
      "x =   9 → y =  17\n",
      "x =  10 → y =  19\n",
      "x =  11 → y =  21\n",
      "x =  12 → y =  23\n"
     ]
    }
   ],
   "source": [
    "print(\"Kogu andmestik (features and labels):\")\n",
    "for feature, label in zip(features, labels):\n",
    "    print(f\"x = {feature:3.0f} → y = {label:3.0f}\")"
   ]
  }
 ],
 "metadata": {
  "kernelspec": {
   "display_name": "Python 3 (ipykernel)",
   "language": "python",
   "name": "python3"
  },
  "language_info": {
   "codemirror_mode": {
    "name": "ipython",
    "version": 3
   },
   "file_extension": ".py",
   "mimetype": "text/x-python",
   "name": "python",
   "nbconvert_exporter": "python",
   "pygments_lexer": "ipython3",
   "version": "3.13.7"
  }
 },
 "nbformat": 4,
 "nbformat_minor": 5
}
